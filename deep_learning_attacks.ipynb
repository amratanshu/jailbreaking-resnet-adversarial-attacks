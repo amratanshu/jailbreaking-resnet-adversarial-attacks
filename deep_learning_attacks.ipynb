{
  "cells": [
    {
      "cell_type": "markdown",
      "id": "6631eda8",
      "metadata": {
        "id": "6631eda8"
      },
      "source": [
        "# Deep Learning Project: Adversarial Attacks"
      ]
    },
    {
      "cell_type": "markdown",
      "id": "63f8b6c2",
      "metadata": {
        "id": "63f8b6c2"
      },
      "source": [
        "This notebook implements and evaluates adversarial attacks (FGSM, PGD) on a ResNet-34 model using a subset of ImageNet. It is converted from a Python script."
      ]
    },
    {
      "cell_type": "code",
      "execution_count": 7,
      "id": "58e0451b",
      "metadata": {
        "id": "58e0451b"
      },
      "outputs": [],
      "source": [
        "import os\n",
        "import json\n",
        "import shutil\n",
        "from PIL import Image\n",
        "import numpy as np\n",
        "import torch\n",
        "from torch.utils.data import DataLoader\n",
        "from torchvision import transforms, datasets, models\n",
        "import matplotlib.pyplot as plt\n",
        "from tqdm import tqdm\n",
        "\n",
        "# Magic command for matplotlib in notebooks\n",
        "%matplotlib inline"
      ]
    },
    {
      "cell_type": "code",
      "source": [
        "!pwd"
      ],
      "metadata": {
        "colab": {
          "base_uri": "https://localhost:8080/"
        },
        "id": "SdD5eUJOqyqf",
        "outputId": "7fcdca4f-d29c-4759-a7f8-934ae7377c69"
      },
      "id": "SdD5eUJOqyqf",
      "execution_count": 3,
      "outputs": [
        {
          "output_type": "stream",
          "name": "stdout",
          "text": [
            "/content\n"
          ]
        }
      ]
    },
    {
      "cell_type": "code",
      "source": [
        "# rm -rf TestDataSet/"
      ],
      "metadata": {
        "id": "Y29YUwUdsAFc"
      },
      "id": "Y29YUwUdsAFc",
      "execution_count": 4,
      "outputs": []
    },
    {
      "cell_type": "code",
      "source": [
        "from zipfile import ZipFile\n",
        "import os\n",
        "\n",
        "zip_path = '/content/TestDataSet.zip'\n",
        "out_dir  = '/content'\n",
        "\n",
        "os.makedirs(out_dir, exist_ok=True)\n",
        "with ZipFile(zip_path, 'r') as z:\n",
        "    z.extractall(out_dir)\n",
        "\n",
        "# verify\n",
        "print(os.listdir(out_dir))"
      ],
      "metadata": {
        "colab": {
          "base_uri": "https://localhost:8080/"
        },
        "id": "qn4JRiLgq3B4",
        "outputId": "8e9810b9-ad46-494c-8b70-beb5f11c9504"
      },
      "id": "qn4JRiLgq3B4",
      "execution_count": 6,
      "outputs": [
        {
          "output_type": "stream",
          "name": "stdout",
          "text": [
            "['.config', 'TestDataSet', 'TestDataSet.zip', '__MACOSX', 'sample_data']\n"
          ]
        }
      ]
    },
    {
      "cell_type": "code",
      "source": [
        "\n",
        "\n",
        "# 1) set up transforms exactly as in your spec\n",
        "mean_norms = np.array([0.485, 0.456, 0.406])\n",
        "std_norms  = np.array([0.229, 0.224, 0.225])\n",
        "plain_transforms = transforms.Compose([\n",
        "    transforms.ToTensor(),\n",
        "    transforms.Normalize(mean=mean_norms, std=std_norms)\n",
        "])\n",
        "\n",
        "# 2) point to your dataset root\n",
        "#    (in Colab this is usually /content/TestDataSet if you unzipped there)\n",
        "dataset_path = \"/content/TestDataSet\"\n",
        "\n",
        "# 3) load labels_list.json and parse out the numeric label indices\n",
        "with open(os.path.join(dataset_path, \"labels_list.json\"), \"r\") as f:\n",
        "    raw = json.load(f)               # e.g. [\"401: accordion\", \"402: acoustic guitar\", …]\n",
        "\n",
        "label_idxs = []\n",
        "for entry in raw:\n",
        "    idx_str, _ = entry.split(\":\", 1)\n",
        "    label_idxs.append(int(idx_str.strip()))\n",
        "\n",
        "# 4) discover your class‐folders in sorted order and map each folder → its numeric label\n",
        "folders = sorted(\n",
        "    d for d in os.listdir(dataset_path)\n",
        "    if os.path.isdir(os.path.join(dataset_path, d))\n",
        ")\n",
        "assert len(folders) == len(label_idxs), \"Mismatch: #folders vs #labels in JSON\"\n",
        "folder_to_label = {folders[i]: label_idxs[i] for i in range(len(folders))}\n",
        "\n",
        "# 5) build the ImageFolder & DataLoader\n",
        "dataset = datasets.ImageFolder(root=dataset_path, transform=plain_transforms)\n",
        "loader  = DataLoader(dataset, batch_size=32, shuffle=False, num_workers=4)\n",
        "\n",
        "# 6) load pretrained ResNet-34\n",
        "device = torch.device(\"cuda\" if torch.cuda.is_available() else \"cpu\")\n",
        "weights = models.ResNet34_Weights.IMAGENET1K_V1\n",
        "model   = models.resnet34(weights=weights).to(device).eval()\n",
        "\n",
        "# 7) loop & accumulate top-1 / top-5\n",
        "correct1 = 0\n",
        "correct5 = 0\n",
        "total    = 0\n",
        "\n",
        "with torch.no_grad():\n",
        "    for images, folder_idxs in tqdm(loader):\n",
        "        images = images.to(device)\n",
        "        outputs = model(images)                     # (B,1000)\n",
        "        _, preds = outputs.topk(5, dim=1)           # (B,5)\n",
        "        preds = preds.cpu().numpy()\n",
        "        folder_idxs = folder_idxs.numpy()\n",
        "\n",
        "        for i, fidx in enumerate(folder_idxs):\n",
        "            folder_name = dataset.classes[fidx]     # synset e.g. \"n02672831\"\n",
        "            gt = folder_to_label[folder_name]       # e.g. 401\n",
        "            top5 = preds[i].tolist()\n",
        "\n",
        "            if gt == top5[0]:\n",
        "                correct1 += 1\n",
        "            if gt in top5:\n",
        "                correct5 += 1\n",
        "            total += 1\n",
        "\n",
        "# 8) report\n",
        "print(f\"\\n\\nTop-1 Accuracy: {correct1/total:.4f}\")\n",
        "print(f\"Top-5 Accuracy: {correct5/total:.4f}\")\n"
      ],
      "metadata": {
        "colab": {
          "base_uri": "https://localhost:8080/"
        },
        "id": "XYS7jfFX6GFW",
        "outputId": "31882887-dbfc-4f36-d4ae-4c13af87784b"
      },
      "id": "XYS7jfFX6GFW",
      "execution_count": 9,
      "outputs": [
        {
          "output_type": "stream",
          "name": "stderr",
          "text": [
            "100%|██████████| 16/16 [00:00<00:00, 29.04it/s]"
          ]
        },
        {
          "output_type": "stream",
          "name": "stdout",
          "text": [
            "\n",
            "\n",
            "Top-1 Accuracy: 0.7600\n",
            "Top-5 Accuracy: 0.9420\n"
          ]
        },
        {
          "output_type": "stream",
          "name": "stderr",
          "text": [
            "\n"
          ]
        }
      ]
    },
    {
      "cell_type": "code",
      "source": [],
      "metadata": {
        "id": "OQRjnu_w8RBx"
      },
      "id": "OQRjnu_w8RBx",
      "execution_count": null,
      "outputs": []
    }
  ],
  "metadata": {
    "colab": {
      "provenance": [],
      "gpuType": "L4"
    },
    "language_info": {
      "name": "python"
    },
    "kernelspec": {
      "name": "python3",
      "display_name": "Python 3"
    },
    "accelerator": "GPU"
  },
  "nbformat": 4,
  "nbformat_minor": 5
}